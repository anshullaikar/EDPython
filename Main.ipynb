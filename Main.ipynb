{
 "metadata": {
  "language_info": {
   "codemirror_mode": {
    "name": "ipython",
    "version": 3
   },
   "file_extension": ".py",
   "mimetype": "text/x-python",
   "name": "python",
   "nbconvert_exporter": "python",
   "pygments_lexer": "ipython3",
   "version": "3.8.6"
  },
  "orig_nbformat": 2,
  "kernelspec": {
   "name": "python386jvsc74a57bd031f2aee4e71d21fbe5cf8b01ff0e069b9275f58929596ceb00d14d90e3e16cd6",
   "display_name": "Python 3.8.6 64-bit"
  },
  "metadata": {
   "interpreter": {
    "hash": "916dbcbb3f70747c44a77c7bcd40155683ae19c65e1c03b4aa3499c5328201f1"
   }
  }
 },
 "nbformat": 4,
 "nbformat_minor": 2,
 "cells": [
  {
   "source": [
    "DOT PRODUCT = & \n",
    "CROSS PRODUCT = ^"
   ],
   "cell_type": "markdown",
   "metadata": {}
  },
  {
   "source": [
    "IMPORTING ETC."
   ],
   "cell_type": "markdown",
   "metadata": {}
  },
  {
   "cell_type": "code",
   "execution_count": 2,
   "metadata": {
    "pycharm": {
     "is_executing": false
    }
   },
   "outputs": [],
   "source": [
    "from sympy import *\n",
    "from sympy.physics.units.quantities import Quantity\n",
    "import scipy.constants\n",
    "r = Symbol(\"r\")\n",
    "x = Symbol(\"x\")\n",
    "a = Quantity(\"a\") #constant"
   ]
  },
  {
   "source": [
    "DIRAC DELTA FUNCTION IN 1D"
   ],
   "cell_type": "markdown",
   "metadata": {}
  },
  {
   "cell_type": "code",
   "execution_count": 3,
   "metadata": {
    "pycharm": {
     "is_executing": false
    }
   },
   "outputs": [
    {
     "output_type": "stream",
     "name": "stdout",
     "text": [
      "3*a**2\n"
     ]
    }
   ],
   "source": [
    "print(integrate((r**2 + r*a + a**2)*DiracDelta(r- a), (r, -oo, oo)))   \n"
   ]
  },
  {
   "source": [
    "DIRAC DELTA FUNCTION IN 3D\n"
   ],
   "cell_type": "markdown",
   "metadata": {}
  },
  {
   "source": [
    "print(integrate((r**2 + r*a + a**2)*DiracDelta(r- a)**3, (r, -oo, oo)))    \n"
   ],
   "cell_type": "code",
   "metadata": {
    "pycharm": {
     "is_executing": false
    }
   },
   "execution_count": 4,
   "outputs": [
    {
     "output_type": "stream",
     "name": "stdout",
     "text": [
      "3*a**2*DiracDelta(0)**2\n"
     ]
    }
   ]
  },
  {
   "source": [
    "DIVERGENCE"
   ],
   "cell_type": "markdown",
   "metadata": {
    "pycharm": {
     "is_executing": false
    }
   }
  },
  {
   "cell_type": "code",
   "execution_count": 5,
   "metadata": {},
   "outputs": [
    {
     "output_type": "stream",
     "name": "stdout",
     "text": [
      "C.x*C.y + C.x*C.z + C.y*C.z\n"
     ]
    }
   ],
   "source": [
    "from sympy.vector import CoordSys3D, Del\n",
    "C = CoordSys3D(\"C\")\n",
    "delop = Del()\n",
    "f = C.x*C.y*C.z*(C.i + C.j + C.k)\n",
    "print(delop.dot(f).doit())"
   ]
  },
  {
   "source": [
    "CURL"
   ],
   "cell_type": "markdown",
   "metadata": {}
  },
  {
   "cell_type": "code",
   "execution_count": 6,
   "metadata": {},
   "outputs": [
    {
     "output_type": "stream",
     "name": "stdout",
     "text": [
      "C.x*C.y*C.j + (-C.x*C.z)*C.k\n"
     ]
    }
   ],
   "source": [
    "f = C.x*C.y*C.z*C.i\n",
    "print(delop.cross(f).doit())"
   ]
  },
  {
   "source": [
    "GRADIENT"
   ],
   "cell_type": "markdown",
   "metadata": {}
  },
  {
   "source": [
    "delop.gradient(C.x*C.y*C.z).doit()\n",
    "C.y*C.z*C.i + C.x*C.z*C.j + C.x*C.y*C.k\n",
    "delop(C.x*C.y*C.z).doit()"
   ],
   "cell_type": "code",
   "metadata": {},
   "execution_count": 7,
   "outputs": [
    {
     "output_type": "execute_result",
     "data": {
      "text/plain": [
       "C.y*C.z*C.i + C.x*C.z*C.j + C.x*C.y*C.k"
      ],
      "text/latex": "$\\displaystyle (\\mathbf{{y}_{C}} \\mathbf{{z}_{C}})\\mathbf{\\hat{i}_{C}} + (\\mathbf{{x}_{C}} \\mathbf{{z}_{C}})\\mathbf{\\hat{j}_{C}} + (\\mathbf{{x}_{C}} \\mathbf{{y}_{C}})\\mathbf{\\hat{k}_{C}}$"
     },
     "metadata": {},
     "execution_count": 7
    }
   ]
  },
  {
   "source": [
    "SCALAR POTENTIAL FIELDS"
   ],
   "cell_type": "markdown",
   "metadata": {}
  },
  {
   "source": [
    "from sympy.vector import scalar_potential\n",
    "R = CoordSys3D('R')\n",
    "conservative_field = 4*R.x*R.y*R.z*R.i + 2*R.x**2*R.z*R.j + 2*R.x**2*R.y*R.k\n",
    "scalar_potential(conservative_field, R)"
   ],
   "cell_type": "code",
   "metadata": {},
   "execution_count": 8,
   "outputs": [
    {
     "output_type": "execute_result",
     "data": {
      "text/plain": [
       "2*R.x**2*R.y*R.z"
      ],
      "text/latex": "$\\displaystyle 2 \\mathbf{{x}_{R}}^{2} \\mathbf{{y}_{R}} \\mathbf{{z}_{R}}$"
     },
     "metadata": {},
     "execution_count": 8
    }
   ]
  },
  {
   "source": [
    "CONSERVATIVE (CURL =0) OR SOLENOIDAL FIELD"
   ],
   "cell_type": "markdown",
   "metadata": {}
  },
  {
   "cell_type": "code",
   "execution_count": 9,
   "metadata": {},
   "outputs": [
    {
     "output_type": "stream",
     "name": "stdout",
     "text": [
      "True\n"
     ]
    },
    {
     "output_type": "execute_result",
     "data": {
      "text/plain": [
       "0"
      ],
      "text/latex": "$\\displaystyle \\mathbf{\\hat{0}}$"
     },
     "metadata": {},
     "execution_count": 9
    }
   ],
   "source": [
    "from sympy.vector import CoordSys3D, is_conservative, curl\n",
    "R = CoordSys3D('R')\n",
    "field = R.y*R.z*R.i + R.x*R.z*R.j + R.x*R.y*R.k\n",
    "print(is_conservative(field))\n",
    "curl(field)"
   ]
  },
  {
   "cell_type": "code",
   "execution_count": 10,
   "metadata": {},
   "outputs": [
    {
     "output_type": "execute_result",
     "data": {
      "text/plain": [
       "0"
      ],
      "text/latex": "$\\displaystyle 0$"
     },
     "metadata": {},
     "execution_count": 10
    }
   ],
   "source": [
    "from sympy.vector import is_solenoidal, divergence\n",
    "R = CoordSys3D('R')\n",
    "field = R.y*R.z*R.i + R.x*R.z*R.j + R.x*R.y*R.k\n",
    "is_solenoidal(field)\n",
    "divergence(field)"
   ]
  },
  {
   "source": [
    "SPHERICAL COORDINATES"
   ],
   "cell_type": "markdown",
   "metadata": {}
  },
  {
   "cell_type": "code",
   "execution_count": 11,
   "metadata": {},
   "outputs": [
    {
     "output_type": "stream",
     "name": "stdout",
     "text": [
      "0\n"
     ]
    }
   ],
   "source": [
    "P = CoordSys3D('P', transformation='spherical', vector_names=list(\"rtp\"), variable_names=list('RTP'))\n",
    "print(P.r & P.t)"
   ]
  },
  {
   "source": [
    "calculate divergence and curl of F1 and F2. Write gradient of a scalar, find scalar potential which does the job, find suitable vector potential too"
   ],
   "cell_type": "markdown",
   "metadata": {}
  },
  {
   "cell_type": "code",
   "execution_count": 12,
   "metadata": {},
   "outputs": [
    {
     "output_type": "stream",
     "name": "stdout",
     "text": [
      "0\n(-2*C.x)*C.j\n3\n0\n"
     ]
    },
    {
     "output_type": "execute_result",
     "data": {
      "text/plain": [
       "C.x**2/2 + C.y**2/2 + C.z**2/2"
      ],
      "text/latex": "$\\displaystyle \\frac{\\mathbf{{x}_{C}}^{2}}{2} + \\frac{\\mathbf{{y}_{C}}^{2}}{2} + \\frac{\\mathbf{{z}_{C}}^{2}}{2}$"
     },
     "metadata": {},
     "execution_count": 12
    }
   ],
   "source": [
    "f1 = C.x**2*C.k\n",
    "f2 = C.x*C.i + C.y*C.j + C.z*C.k\n",
    "\n",
    "print(divergence(f1))\n",
    "print(curl(f1))\n",
    "print(divergence(f2))\n",
    "print(curl(f2))\n",
    "\n",
    "scalar_potential(f2, C)\n",
    "\n",
    "# vector_pot = solve(curl(G) - f1, G)\n",
    "# print(vector_pot)"
   ]
  },
  {
   "source": [
    "VECTOR POTENTIAL"
   ],
   "cell_type": "markdown",
   "metadata": {}
  },
  {
   "cell_type": "code",
   "execution_count": null,
   "metadata": {},
   "outputs": [],
   "source": []
  },
  {
   "source": [
    "check divergence theorem, stokes theorem, flux etc https://docs.sympy.org/latest/modules/vector/vector_integration.html"
   ],
   "cell_type": "markdown",
   "metadata": {}
  },
  {
   "source": [
    "work done by charges"
   ],
   "cell_type": "markdown",
   "metadata": {}
  },
  {
   "cell_type": "code",
   "execution_count": 13,
   "metadata": {},
   "outputs": [
    {
     "output_type": "stream",
     "name": "stdout",
     "text": [
      "W1 0\n",
      "W2 -k*q**2/a\n",
      "W3 k*q**2*(-2 + sqrt(2))/(2*a)\n",
      "W4 k*q**2*(-4 + sqrt(2))/(2*a)\n",
      "W k*q**2*(-4 + sqrt(2))/a\n"
     ]
    }
   ],
   "source": [
    "from sympy.geometry import Point\n",
    "q= Quantity(\"q\") #constant\n",
    "k= Quantity(\"k\") #constant\n",
    "# k = 1/(4*pi*e0)\n",
    "q1 = [Point(0,0),q]\n",
    "q2 = [Point(0,a),-q]\n",
    "q3 = [Point(a,0),-q]\n",
    "q4 = [Point(a,a),q]\n",
    "#starting with 2 cause first charge doesnt take work / is already there\n",
    "W1 = 0\n",
    "W2 = k*q2[1]*(q1[1]/(q2[0].distance(q1[0])))\n",
    "W3 = k*q3[1]*(q1[1]/(q1[0].distance(q3[0]))+q2[1]/(q2[0].distance(q3[0])))\n",
    "W4 = k*q4[1]*(q1[1]/(q1[0].distance(q4[0]))+q2[1]/(q2[0].distance(q4[0]))+q3[1]/(q3[0].distance(q4[0])))\n",
    "\n",
    "\n",
    "e0 = scipy.constants.epsilon_0\n",
    "pi = scipy.constants.pi\n",
    "print(\"W1\",W1)\n",
    "print(\"W2\",W2.simplify())\n",
    "print(\"W3\",W3.simplify())\n",
    "print(\"W4\",W4.simplify())\n",
    "print(\"W\",(W1 + W2 + W3 + W4).simplify())\n"
   ]
  },
  {
   "source": [
    "two point charges are held together my massless string of length a, when they fly apart how fast is each charge going PROBLEM 2.32"
   ],
   "cell_type": "markdown",
   "metadata": {}
  },
  {
   "source": [
    "FORCE DUE TO MAGNETIC FIELD"
   ],
   "cell_type": "markdown",
   "metadata": {}
  },
  {
   "cell_type": "code",
   "execution_count": 14,
   "metadata": {},
   "outputs": [
    {
     "output_type": "execute_result",
     "data": {
      "text/plain": [
       "380*C.j + (-760)*C.k"
      ],
      "text/latex": "$\\displaystyle (380)\\mathbf{\\hat{j}_{C}} + (-760)\\mathbf{\\hat{k}_{C}}$"
     },
     "metadata": {},
     "execution_count": 14
    }
   ],
   "source": [
    "q = 2\n",
    "v = C.x*C.i + C.y*C.j + C.z*C.k\n",
    "B = 2*C.x**2*C.i + C.y*C.j + C.z*C.k\n",
    "E = 0*C.i + 0*C.j +0*C.k # make E non Zero if solving for Lorentz Force\n",
    "F = q*(E+v.cross(B))\n",
    "F.subs({C.x:10,C.y:2, C.z:1})"
   ]
  },
  {
   "cell_type": "code",
   "execution_count": null,
   "metadata": {},
   "outputs": [],
   "source": []
  }
 ]
}