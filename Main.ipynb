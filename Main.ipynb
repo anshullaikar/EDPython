{
 "metadata": {
  "language_info": {
   "codemirror_mode": {
    "name": "ipython",
    "version": 3
   },
   "file_extension": ".py",
   "mimetype": "text/x-python",
   "name": "python",
   "nbconvert_exporter": "python",
   "pygments_lexer": "ipython3",
   "version": "3.8.6"
  },
  "orig_nbformat": 2,
  "kernelspec": {
   "name": "python386jvsc74a57bd031f2aee4e71d21fbe5cf8b01ff0e069b9275f58929596ceb00d14d90e3e16cd6",
   "display_name": "Python 3.8.6 64-bit"
  },
  "metadata": {
   "interpreter": {
    "hash": "31f2aee4e71d21fbe5cf8b01ff0e069b9275f58929596ceb00d14d90e3e16cd6"
   }
  }
 },
 "nbformat": 4,
 "nbformat_minor": 2,
 "cells": [
  {
   "cell_type": "code",
   "execution_count": 5,
   "metadata": {},
   "outputs": [],
   "source": [
    "from sympy import *\n",
    "from sympy.physics.units.quantities import Quantity\n",
    "r = Symbol(\"r\")\n",
    "x = Symbol(\"x\")\n",
    "a = Quantity(\"a\") #constant"
   ]
  },
  {
   "source": [
    "DIRAC DELTA FUNCTION IN 1D"
   ],
   "cell_type": "markdown",
   "metadata": {}
  },
  {
   "cell_type": "code",
   "execution_count": 6,
   "metadata": {},
   "outputs": [
    {
     "output_type": "stream",
     "name": "stdout",
     "text": [
      "3*a**2\n"
     ]
    }
   ],
   "source": [
    "print(integrate((r**2 + r*a + a**2)*DiracDelta(r- a), (r, -oo, oo)))   \n"
   ]
  },
  {
   "source": [
    "DIRAC DELTA FUNCTION IN 3D\n"
   ],
   "cell_type": "markdown",
   "metadata": {}
  },
  {
   "source": [
    "print(integrate((r**2 + r*a + a**2)*DiracDelta(r- a)**3, (r, -oo, oo)))    \n"
   ],
   "cell_type": "code",
   "metadata": {},
   "execution_count": 7,
   "outputs": [
    {
     "output_type": "stream",
     "name": "stdout",
     "text": [
      "3*a**2*DiracDelta(0)**2\n"
     ]
    }
   ]
  },
  {
   "source": [
    "DIVERGENCE CALCULATOR"
   ],
   "cell_type": "markdown",
   "metadata": {}
  },
  {
   "cell_type": "code",
   "execution_count": 8,
   "metadata": {},
   "outputs": [
    {
     "output_type": "stream",
     "name": "stdout",
     "text": [
      "3*a**2*DiracDelta(0)**2\n"
     ]
    }
   ],
   "source": [
    "print(integrate((r**2 + r*a + a**2)*DiracDelta(r- a)**3, (r, -oo, oo)))    \n"
   ]
  },
  {
   "cell_type": "code",
   "execution_count": null,
   "metadata": {},
   "outputs": [],
   "source": []
  }
 ]
}