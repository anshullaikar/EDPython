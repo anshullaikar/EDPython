{
 "cells": [
  {
   "cell_type": "markdown",
   "metadata": {},
   "source": [
    "DOT PRODUCT = & \n",
    "CROSS PRODUCT = ^"
   ]
  },
  {
   "cell_type": "markdown",
   "metadata": {},
   "source": [
    "#### IMPORTING ETC."
   ]
  },
  {
   "cell_type": "code",
   "execution_count": 60,
   "metadata": {
    "pycharm": {
     "is_executing": false
    }
   },
   "outputs": [],
   "source": [
    "from IPython.display import display, Math\n",
    "from sympy import *\n",
    "from sympy.physics.units.quantities import Quantity\n",
    "import scipy.constants\n",
    "r = Symbol(\"r\")\n",
    "x = Symbol(\"x\")\n",
    "a = Quantity(\"a\") #constant\n"
   ]
  },
  {
   "cell_type": "markdown",
   "metadata": {},
   "source": [
    "#### DIRAC DELTA FUNCTION IN 1D"
   ]
  },
  {
   "cell_type": "code",
   "execution_count": 60,
   "metadata": {
    "pycharm": {
     "is_executing": false
    }
   },
   "outputs": [
    {
     "data": {
      "text/latex": [
       "$\\displaystyle 3 \\text{a}^{2}$"
      ],
      "text/plain": [
       "   2\n",
       "3⋅a "
      ]
     },
     "execution_count": 60,
     "metadata": {},
     "output_type": "execute_result"
    }
   ],
   "source": [
    "integrate((r**2 + r*a + a**2)*DiracDelta(r- a), (r, -oo, oo))   \n"
   ]
  },
  {
   "cell_type": "markdown",
   "metadata": {},
   "source": [
    "#### DIRAC DELTA FUNCTION IN 3D\n"
   ]
  },
  {
   "cell_type": "code",
   "execution_count": 61,
   "metadata": {
    "pycharm": {
     "is_executing": false
    }
   },
   "outputs": [
    {
     "data": {
      "text/latex": [
       "$\\displaystyle 3 \\left(\\delta\\left(0\\right)\\right)^{2} \\text{a}^{2}$"
      ],
      "text/plain": [
       "      2  2\n",
       "3⋅δ(0) ⋅a "
      ]
     },
     "execution_count": 61,
     "metadata": {},
     "output_type": "execute_result"
    }
   ],
   "source": [
    "integrate((r**2 + r*a + a**2)*DiracDelta(r- a)**3, (r, -oo, oo))    \n"
   ]
  },
  {
   "cell_type": "markdown",
   "metadata": {
    "pycharm": {
     "is_executing": false
    }
   },
   "source": [
    "#### DIVERGENCE"
   ]
  },
  {
   "cell_type": "code",
   "execution_count": 62,
   "metadata": {},
   "outputs": [
    {
     "data": {
      "image/png": "iVBORw0KGgoAAAANSUhEUgAAAL8AAAAUCAYAAADcMewrAAAABHNCSVQICAgIfAhkiAAABEhJREFUaIHt21uIVVUcx/HP2JTZRbtYUNRDQVEWZUXQg8URe6hAIiizemiKUCiC6qGiUiQIpAuMUSRdx8qiIKKbBJFpUlko3YuIaKDogprZRbtPD2vtznJ3Zjz7zOxz9jDnCwPrv9da/7X277/2uux9pmfJkiW6dJmITOp0B9pMH4ZQ62w3KkmfCaZNNviPw3bh5odwR67cyiRvMw4r0MbSpO732D2Xvzd+TcrcVMB3uyhTn4zBxMdwfwMt+C2bdsR3UAnaZIP/Y1yTXL8Os2J6Hi5O8i7D1wXauBd/xfTBOC+XPxd7xfTfqhngMvUZ74zb+PYm6fsxRwjmJKzA2bgvKdOPFwq28RWexQXRXoink/z5SXoVvinov12UpU/GbZiWuzYfpyT2hy36LpN2xLcUbXpz9gKciiNwJDZin5i3ETcUbSDSry7ObByFzzEVZyXlHmzRf7soSx94IGdfgpMTeznuGoX/Mik7vqVokz/wbsNF+DPaWWB/xoX4o4GPybgWb8X6O4QbfwjHxjJvYkNM9wiDiLBETo7pb/FSi/4bMej/+8JHYt5rDfIGRvCVUZY+eebG/vRE+0lcNUa+GXttWo1vR7XJz/zwNtbj9OTai/iiQdn98SpOivYvsYHDcbmwFH0a85bhsZjuw812XhIHhD1hq/7z9GO/3LWZOFfYsgzm8t4bxk+esvTJqAnbhiw2q3Ap/hkD3xllaFM0vh3XptHgX2jnwIo38XhsLOWepIE7hZN8NiuehilJ2adwOw7BdGF2ODPmDeHhBn0p4j9Pf4NrfUKAB7BmhLojUZY+hC3V89gz2utwflJnNL5TytCmaHw7rk1P7iPX8XgnafgTzIjpzThR/cAyLV7rxfuxsaEGHUlZhFtj+rfkRtYIe8WUVvzvij5heZ+ttQCXqc8MvI4Do/2uMNP91KBsFbWh+fhWQpt05p8iPL1ZYFcL+6sNwh5puvA+e46wzByd1F+3i85nLBeWw8nqwtD4INSK/zIpU5+peEU9uEPRXpAr9xFeLui7nTQb30pokw7+u9VnsR+FmWC7cLJejz2Ep+0W4enuSeo2K/4mPCG8C8/YimcalG3Ff5mUqc8BODSxe3B9g3IrhABXTZuMZuNbCW2ytz3zcEVy/Urh/S1hiVmU5C0W9ryfqX/cmJVrdCSW5eyVwhKZp1X/ZdBOfZqhStrkaSa+ldAmv+cvykr1r5tLhUGQNXyGsLKsztXZV5ghsldgM4W92Vj5rxJl9r+q2jQb345rM9oftl0tzHxwI37AB9iCtTghKVvDOXhUXZi1hh/4Rf1XkTL7XzVtaorFt+Pa7Far1UbRhh3CXmur8G71IOH3HVvwnCDEplj2S2F/fEy0fxe+Cn43Rv6rSJn9r5o2RePbcW1Gu+0pQnb42Cb8FGAx3mhX411KZ9zFt9FHrrKo0qGsy9gz7uI70f6ZpUuX/+gO/i4Tln8B9TYOhtApvxgAAAAASUVORK5CYII=\n",
      "text/latex": [
       "$\\displaystyle \\mathbf{{x}_{C}} \\mathbf{{y}_{C}} + \\mathbf{{x}_{C}} \\mathbf{{z}_{C}} + \\mathbf{{y}_{C}} \\mathbf{{z}_{C}}$"
      ],
      "text/plain": [
       "x_C⋅y_C + x_C⋅z_C + y_C⋅z_C"
      ]
     },
     "execution_count": 62,
     "metadata": {},
     "output_type": "execute_result"
    }
   ],
   "source": [
    "from sympy.vector import CoordSys3D, Del\n",
    "C = CoordSys3D(\"C\")\n",
    "delop = Del()\n",
    "f = C.x*C.y*C.z*(C.i + C.j + C.k)\n",
    "delop.dot(f).doit()"
   ]
  },
  {
   "cell_type": "markdown",
   "metadata": {},
   "source": [
    "#### CURL"
   ]
  },
  {
   "cell_type": "code",
   "execution_count": 63,
   "metadata": {},
   "outputs": [
    {
     "data": {
      "image/png": "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\n",
      "text/latex": [
       "$\\displaystyle (\\mathbf{{x}_{C}} \\mathbf{{y}_{C}})\\mathbf{\\hat{j}_{C}} + (- \\mathbf{{x}_{C}} \\mathbf{{z}_{C}})\\mathbf{\\hat{k}_{C}}$"
      ],
      "text/plain": [
       "(x_C⋅y_C) j_C + (-x_C⋅z_C) k_C"
      ]
     },
     "execution_count": 63,
     "metadata": {},
     "output_type": "execute_result"
    }
   ],
   "source": [
    "f = C.x*C.y*C.z*C.i\n",
    "delop.cross(f).doit()\n"
   ]
  },
  {
   "cell_type": "markdown",
   "metadata": {},
   "source": [
    "#### GRADIENT"
   ]
  },
  {
   "cell_type": "code",
   "execution_count": 64,
   "metadata": {},
   "outputs": [
    {
     "data": {
      "image/png": "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\n",
      "text/latex": [
       "$\\displaystyle (\\mathbf{{y}_{C}} \\mathbf{{z}_{C}})\\mathbf{\\hat{i}_{C}} + (\\mathbf{{x}_{C}} \\mathbf{{z}_{C}})\\mathbf{\\hat{j}_{C}} + (\\mathbf{{x}_{C}} \\mathbf{{y}_{C}})\\mathbf{\\hat{k}_{C}}$"
      ],
      "text/plain": [
       "(y_C⋅z_C) i_C + (x_C⋅z_C) j_C + (x_C⋅y_C) k_C"
      ]
     },
     "execution_count": 64,
     "metadata": {},
     "output_type": "execute_result"
    }
   ],
   "source": [
    "delop.gradient(C.x*C.y*C.z).doit()\n",
    "C.y*C.z*C.i + C.x*C.z*C.j + C.x*C.y*C.k\n",
    "delop(C.x*C.y*C.z).doit()"
   ]
  },
  {
   "cell_type": "markdown",
   "metadata": {},
   "source": [
    "#### SCALAR POTENTIAL FIELDS"
   ]
  },
  {
   "cell_type": "code",
   "execution_count": 65,
   "metadata": {},
   "outputs": [
    {
     "data": {
      "image/png": "iVBORw0KGgoAAAANSUhEUgAAAGAAAAAaCAYAAABIIVmfAAAABHNCSVQICAgIfAhkiAAABHRJREFUaIHt2HmI1VUUB/DPmJW2KGi00T/9UVEJ/RFRWcGU0aqllWZFWSRGC2IFRZYxBUFlm4UpYaGFSUYELVYUmthiZWRkIi1iC2oa2ZRZ7v1x7uPd95w3782b0TfRfOHH7y7nnt/5nXPPcm9TS0uLHjQOvRotQBXchc/wB9bjdQxqqERdjO5ugGY8jcE4C9vwHgY0UKYuRe9GC1AF55b1r0YrThPe8J9H7gEDMRav4jv8LX72A1yve3jLgUKODY0WpKuQe8BITMMaLMCPOASXYAbOTzQ797CMOaZgKT5uoAxditwA3+AivIkd2fhEfIpLhTFe2WPSleIxnJ6e7Q2SocuRh5X5Iq7uKKNZi+mp3Zzex2OT8IadmFy2ZnY29yuO6KScj+MKkYhXZuMPZt/5BXuXrdsff2U0E+v8/qqMR6VnZj2Ma43rW9N7W3p/jQnZ/G1iZ8IoXJnNXYef6xEuYYqi8leUzU3NZDoYI8rmh2G/1N6uTiXtTtRSBfXGNan9djb+DIYIhffCLJEnpmU0T+hctTJVVD7DReI9NI1vTM9PomgYmcZvwNxs/eisPQ+r65TjAfQvGxuNE7P+V/UwbqrhJPwIbhc/cGHZXH98gSNTfyMOSO3PRf2+pR7BEiol/PvQktqD8WFGfwy+RT+sw75p7mK81glZclyFF9CU+tNxYz2MqoWg8UL5K8ROLEerCA+FEFVQ/p+4XOeUT/xgW09LRvMRlmT041J7hKLy14jioiswTISygvLn4OZ6mbVngFtE/F2OM/FbBbpPsLhs7A183wbt+0oT1zaR5F9W9KJ6MCVrX4t9lIafmXatnOqRpVmEuELonocxdi1cauZdyQAT8BSWCeWvrUBHxN0zysZG44J21mwRhlspzhqX6VyueEnscjhIeMHZqb8Tz3WBLCeJENYn9Rcl2q1t0NbMuy0D3CnKvqVC+eva+cCgRFvA8vRuEkn58Arr1uAUHC1iKVHaDmznW+1hq9LkP1lxly4UJ/tKqEWW4/CWOIkTeW+ouC1oD1V5l1dBk3C/SKDnqBx2oK/YeX1Tf76Ij0twrNiJs0WlVO6ibaFV3HrWi+m4W8T9Ptn4jDp45bL0w7uKStuZ+uPK1ixTWiXWwrvEAGOE8rcL9xrfxuJVirX0k2JnwO8i9m4SFcJiEYebcU/im+OwRDMARwlDj9W+O1fDerwozh0FbFD95F5NlgFKPbkJd7TBZ5ZdDVD1P3MDFJLDXkoPWTkWCgOMSowKuEnU5IR7TsJDqX+vuFtalNHvg5Oz/nLFUrIzmKLUALPxT5U1u0uWmnjnOaBF5bKv8DQn2rll43PKPvxwNtdbqfLhB2Ho87BZnKKf7dCvtY2ViV8BtYSfarKsUl0vTSICdJR3Q6+Yd+AdcdolktqpdfJqFlXX84q1/0J82QBZOsS7O9zxP6p4YKv3smyBOGgNT/3NuLVBsnSId3cwwGrFEm0oTugEr1ZRjQ0RuaiRstTEu5a7oB7sRnQHD/hfo8cADUaPARqMfwG1wi0NeyoQBQAAAABJRU5ErkJggg==\n",
      "text/latex": [
       "$\\displaystyle 2 \\mathbf{{x}_{R}}^{2} \\mathbf{{y}_{R}} \\mathbf{{z}_{R}}$"
      ],
      "text/plain": [
       "     2        \n",
       "2⋅x_R ⋅y_R⋅z_R"
      ]
     },
     "execution_count": 65,
     "metadata": {},
     "output_type": "execute_result"
    }
   ],
   "source": [
    "from sympy.vector import scalar_potential\n",
    "R = CoordSys3D('R')\n",
    "conservative_field = 4*R.x*R.y*R.z*R.i + 2*R.x**2*R.z*R.j + 2*R.x**2*R.y*R.k\n",
    "scalar_potential(conservative_field, R)"
   ]
  },
  {
   "cell_type": "markdown",
   "metadata": {},
   "source": [
    "#### CONSERVATIVE (CURL =0) OR SOLENOIDAL FIELD"
   ]
  },
  {
   "cell_type": "code",
   "execution_count": 66,
   "metadata": {},
   "outputs": [
    {
     "data": {
      "text/plain": [
       "True"
      ]
     },
     "metadata": {},
     "output_type": "display_data"
    },
    {
     "data": {
      "image/png": "iVBORw0KGgoAAAANSUhEUgAAAA8AAAAYCAYAAAAlBadpAAAABHNCSVQICAgIfAhkiAAAAVVJREFUOI3F1LFLlWEUBvDfFQeDNPA25GiQg1zQoL8hcJKCQIqgqblF0e1OIukkNDS01RJlQURSU/9Borg4uDYohIpu5vCdD859uXnvZA+88JznnIfzft/5vtNot9t64C5mg7/Hbp0Y7GEcxgeMo4FHuIczGOhhfoXbeIFFTGKtn85zeIo21kNrYh6b+NLo45n/iV7XvlpzE8vYxkmc7dBGc2H5wlr4jrEuegvPcB87Zedr2EjGP1jFy+Ai9xFDZecnuJPix/gW/Ce+Bp+I2je584PEj1SzrLGJ4xQ/LK89nfg+/qb4PLQaU6W5WXQukbWbpTmj0Y+WzYeJj3QxZ+2gNP9KfLzIDYRWY6s0f058GDMpnsH1FH+ic85vVb9bPet3eB38earbi1yH+Uw1vx+4hRtY0InfUdN1k+yovuEV1a46jbMbWitqlJ1rHGIpzqX4f8vgAoXrP68m265bAAAAAElFTkSuQmCC\n",
      "text/latex": [
       "$\\displaystyle \\mathbf{\\hat{0}}$"
      ],
      "text/plain": [
       "0"
      ]
     },
     "execution_count": 66,
     "metadata": {},
     "output_type": "execute_result"
    }
   ],
   "source": [
    "from sympy.vector import CoordSys3D, is_conservative, curl\n",
    "R = CoordSys3D('R')\n",
    "field = R.y*R.z*R.i + R.x*R.z*R.j + R.x*R.y*R.k\n",
    "display(is_conservative(field))\n",
    "curl(field)"
   ]
  },
  {
   "cell_type": "code",
   "execution_count": 67,
   "metadata": {},
   "outputs": [
    {
     "data": {
      "image/png": "iVBORw0KGgoAAAANSUhEUgAAAA4AAAASCAYAAABrXO8xAAAABHNCSVQICAgIfAhkiAAAAQxJREFUOI2t0k8rxFEUxvEPWZGGjZWFmsy8AaGsUJOlN2Bha4qFjbLws7D2p1hKeQW2NlbkHWA0pZTdFImykcW9vxp3frMYeTZPnc733HN7Tl+WZf6i/oLaOE7xgi884QCj7U0DCVTGDcZwgXtMYwNLmEOr6MWTCK1jGVtYwD6q2CtatYxaXO04GbiDD6xgKAXno1/iOwHfcY1BzKZgNXpDsR6jV1KwFP2tC5jXR1KwJ7WD+cRSUWNb/TUFH6JXuoCT0RspeBW9pvMLw0L4n7hNwaYQxQTqCbgr5Hcu5NlxcmvCyR1hEXeYETJuYDtvTFdqYgpnEdgULupQCL6VN6YvwjNWC+q/9C859qQf+aIu4Sv3EegAAAAASUVORK5CYII=\n",
      "text/latex": [
       "$\\displaystyle 0$"
      ],
      "text/plain": [
       "0"
      ]
     },
     "execution_count": 67,
     "metadata": {},
     "output_type": "execute_result"
    }
   ],
   "source": [
    "from sympy.vector import is_solenoidal, divergence\n",
    "R = CoordSys3D('R')\n",
    "field = R.y*R.z*R.i + R.x*R.z*R.j + R.x*R.y*R.k\n",
    "is_solenoidal(field)\n",
    "divergence(field)"
   ]
  },
  {
   "cell_type": "markdown",
   "metadata": {},
   "source": [
    "#### SPHERICAL COORDINATES"
   ]
  },
  {
   "cell_type": "code",
   "execution_count": 68,
   "metadata": {},
   "outputs": [
    {
     "name": "stdout",
     "output_type": "stream",
     "text": [
      "0\n"
     ]
    }
   ],
   "source": [
    "P = CoordSys3D('P', transformation='spherical', vector_names=list(\"rtp\"), variable_names=list('RTP'))\n",
    "print(P.r & P.t)"
   ]
  },
  {
   "cell_type": "markdown",
   "metadata": {},
   "source": [
    "##### calculate divergence and curl of F1 and F2. Write gradient of a scalar, find scalar potential which does the job, find suitable vector potential too"
   ]
  },
  {
   "cell_type": "code",
   "execution_count": 69,
   "metadata": {},
   "outputs": [
    {
     "data": {
      "image/png": "iVBORw0KGgoAAAANSUhEUgAAAEsAAAAdCAYAAADimZEAAAAABHNCSVQICAgIfAhkiAAABExJREFUaIHt2XuIVVUUBvDfpGKDipYa0ouMUiqRpAfZw4awgggKIvOBUhEJQlGRZlAxlT0oyZQsCIoMQpOEpKD+6EEvssy0orKiBxkIaulYaZlmf6x9umeO987cc2eaJvODwz77/d3v7L3W2vs2tba22s8xDpek9+X4rNGB+nYLnd6LQXgOI9GEy3EqdjYy2EHdx6tXYjGOxQ2YixMxv9HB9ueVNRnT0YpFqWwoZuNlvFB2wN6ysm7FamzHZvFDxnRxzGVi692ZK5uTykoLRe8RqwWP4kych914BYf+i5z2QW/ZhhcW8tPRhrM0uAr+CdRaWUuwCQN6kEsegwS3rYXyU7AX19Tod2Wqz55jupNUNbFOE1/2fvzanZOVwEKsw7uF8jV4HndjYE+TqibWPcLQPtbDXDI8hLNxGfZUqb8PI3B9T5JiX7FGYaKIdBsK3LqIBZgijPw3Ndq8j/WYqYcdVHGyq4VrfTZXdhJ2qNiBBwt9nsnVbcGRDXJZqCLU+k7aLsPROL/E+NOEl824Lke/MgSLYk0US39VruxTEQFnuElsE5iEqbm6q/BDGQIJi1PfqcKoj0hPLbv0TkrrFWuacFp9Uv5JEbT+UYZkXqwBOBmf29ewPy6+RNZnidiyebv2sMbd/CzhAV/Fxtxzc432q1M6oY6xi0ItFN70z7Ik83HWEWnAjTXaXis85Uhx3lqj8uXX4Jayk+fQVLJ9G34TW7EjTBMRfCbUPNxecq6/kV9ZQ1NajG3yBKeoLN1MqJ9xBXZV6dMfN4oQoE04ja/wBE5olHTCTxjWSZt5KkLNVluounjmV1bm/Q7uYPL3hD07J1f2Ir6u0vYQsa3GpfwvicBRwpF8IrZ8o2hWv8feg29r1NXNM7+yNqV0qNqYqb1QhKG8qErbR3IE5otz3thEbjw+6mCeznAQhqhwroXsY/TBUlzcFZ55sTaKE//oGhOPEXFQhuzGsUkY0MNzdYOFp5Qmm6O951mF12vMUw9Gp3nXddJuMtam937iIjDvQUvxzIu1F28KO3BcYdJmEXs1p/xrwthnX26YiLey8UapbPG30tjdiTNS2png28Uh/cuU74+VODflS/EsxlkrUlq8BVgkbhlhmziw7hDeJjPsLbgtvee9W3cLBRcIO7SyjrabxWrakPLNws6OV5JnNbE2YUaubJL2p/xZuYnXau9h7hA27QsRLRMBbNnQoCMMxqXiB2/opG2G74XAW1J+IF4SwtXNsyjWLhFcnq5i9JanQbJnaaHPA7m6vmI5t6kEseNwr/aed4I41jSCGcJjV7tLf6rA9btc3XoMz9UNwRtleFY7iC4QX+Kusr+igOtUjOtcERd9jB8TybENjNksrqBX4O0u8stQN88+LS0txc678aEwhh8oeX7KYafwkluFGx6OwxKJlXha2JMyOB6/i9W8rUFeDfNs+h/8ydpt6C1/WPwncECsEjggVgn8BWIB+N81MzKxAAAAAElFTkSuQmCC\n",
      "text/latex": [
       "$\\displaystyle (\\mathbf{{x}_{C}}^{2})\\mathbf{\\hat{k}_{C}}$"
      ],
      "text/plain": [
       "⎛   2⎞     \n",
       "⎝x_C ⎠ k_C "
      ]
     },
     "metadata": {},
     "output_type": "display_data"
    },
    {
     "data": {
      "image/png": "iVBORw0KGgoAAAANSUhEUgAAAA4AAAASCAYAAABrXO8xAAAABHNCSVQICAgIfAhkiAAAAQxJREFUOI2t0k8rxFEUxvEPWZGGjZWFmsy8AaGsUJOlN2Bha4qFjbLws7D2p1hKeQW2NlbkHWA0pZTdFImykcW9vxp3frMYeTZPnc733HN7Tl+WZf6i/oLaOE7xgi884QCj7U0DCVTGDcZwgXtMYwNLmEOr6MWTCK1jGVtYwD6q2CtatYxaXO04GbiDD6xgKAXno1/iOwHfcY1BzKZgNXpDsR6jV1KwFP2tC5jXR1KwJ7WD+cRSUWNb/TUFH6JXuoCT0RspeBW9pvMLw0L4n7hNwaYQxQTqCbgr5Hcu5NlxcmvCyR1hEXeYETJuYDtvTFdqYgpnEdgULupQCL6VN6YvwjNWC+q/9C859qQf+aIu4Sv3EegAAAAASUVORK5CYII=\n",
      "text/latex": [
       "$\\displaystyle 0$"
      ],
      "text/plain": [
       "0"
      ]
     },
     "metadata": {},
     "output_type": "display_data"
    },
    {
     "data": {
      "image/png": "iVBORw0KGgoAAAANSUhEUgAAAFgAAAAdCAYAAAAuAKvrAAAABHNCSVQICAgIfAhkiAAABHxJREFUaIHt2muIVVUUB/Df6FCZhZWWQRkppVRSSQ/8UDJkD/qUVNoLzR5YRIoVZW8Go9ISLEkKKcgwKslSemAfUkqjzCx7aEVFkpFhpk4Pp8y0D+tc7pnTvXPPce4Uyv3DYZ+z1z5rrb3u3muvtc5tam1t1UCnGIYLkvv5WFvk5ea6q7N34UC8iIFowmiciva8DHp0j157DWZjECbjdhyPGUUYNFZwdVyKsWjFrKSvL27FYrySh0lTwwd3LxouopvRMHA3o5qB52Ijev+HuvwfOAW7cG0V+viEXrqOLiqgkoFPE859Gn4vyrAT9BUTeRlfi1CnDctxTRVduhursBD34YDuEFApirgfv+DxOssanfDcgKX4Dv1xIZ7E+cmYXXWWWwsPYgUm4YEMbaWIGkrYXJR5NooYjC/EhCcUZVYDZwmX8xp2pvoPx/sYgIuxoM5y8+Bz7C8Sip01xhZCdlteLTKWF+opJMESETtmJ/AjnkjuW1L9J2Cbsv97OPPesynaJhzZBd2ex1E4J9M/Xp198Nn4G+8VZdRF/JW0O1J9a0QGVcLNOCO5H4PLU7Sr8H0X5L+TtFkDdxlpA/fGyWK71PNwq4VmjEvuF2doc0SBhdB1rnBj6fPhETmzqk6wMmlHdJHPv5A28BHoKQ6h/xLTMBSv440K9An4NrkfJE7+Q5LnVZhSBx3a8IdwE3VF2sB9k3ZLlbHrdPRHta55OeRPwi3iYB1bZUwbLlN2I6Vw6ldcgu0V3tkXN+Hd5P12fIWncFwVOZvRL4fOheSkw7RSCW6/Ksy+Eb9yXvxQg34jHhX11ZE6D4FWiHPhzFTfq4lOWRyMN0UdF34Tkx4gDvFPhRvMopcCZci8ctIG3pi0fVXGyALCa2EyZuKzhO/Gzoe7TkfjEtWuecK1pPGY8qRn4E7l1T9cGDKLHjhI2RXlQS45aQNvwE8YUkDI7mCK8Lurxam9qcb4oeLHKGGtqMs2iUPvJOXd0kdEGPAxbtMxcakWHQ1J+K3ONYMCctI+eBfeFn7omJyCiuIeYdxVYuXWMm4vEZOXVt0SkcqXtng/EQ+X5jFYedEskz8rHJ60S3OOzy0nmyovwEU4T9QL6okrMVXE2cvEAZfFOjydep4lVitsFYH/NlwhVsk+Ijm5O+HdlHq3SMp9bqLXopzjc8upZOCNIi6dnVe7nBiYtD11TCDSeEvZwGN0rHLdgPXJ/UdiN0xPnu8Vq+8Tkaw0i6SkSW1D98EocWiuz9CyiVgpC/0yr5wsg+0icD9d2YHXC62JIp1dLanx8zO05zL8HkrRmsWuaFNOTIaJ4k16EY0QNZE0xonIqdK3tv6Z51IIm1tOpRLhTFHpmlqBtidgoljhxIfKzWJl/yx2yImpsb1wh9i5y1P9Q0WUcn2qb42IvQvJ6dnS0pJVcAc+FEH0B8qhx56CdhFdbBGx6qE4TEx8EZ4R0RIciz/Fbtia4jEHdwn3UcJEYeRCchofPStjofizSbtIGKbjpd1h1PhsXxmj6sWo8dGzm9EwcDfjH031GS5jv8X6AAAAAElFTkSuQmCC\n",
      "text/latex": [
       "$\\displaystyle (- 2 \\mathbf{{x}_{C}})\\mathbf{\\hat{j}_{C}}$"
      ],
      "text/plain": [
       "(-2⋅x_C) j_C"
      ]
     },
     "metadata": {},
     "output_type": "display_data"
    },
    {
     "data": {
      "image/png": "iVBORw0KGgoAAAANSUhEUgAAAA4AAAASCAYAAABrXO8xAAAABHNCSVQICAgIfAhkiAAAAP9JREFUOI2d0rErhVEYx/HPvdkIRUhZhMVERmUzKIu/wGKRRVlYvIsw8ieQxWJV2GRVNxkskoWESQyU4bynXq/3eq/7W36d0/Pt/M7zPJUkSTSjau68jTPc4x0vuMQ6uv4Cl9GKE+zgAJ9IUMNALGzJge34KEi2gTWsYrHoxSIIDlMfrhe1nmZTr8WLfNSoFbShAxOYTKGtRsDezPkY83gqi9qHSupzGBTGMl4GRj3iCNPCHPcaBaPucI1RdP8HhP7Uv/LgiNDFvKrCAvTgAq/87OoMNnGOWzwLnZ0SmvOAhVicBU8xJMxsDJ14ww32sSss/S/wCktlH83mb0pNg98rUiwuFBKrLAAAAABJRU5ErkJggg==\n",
      "text/latex": [
       "$\\displaystyle 3$"
      ],
      "text/plain": [
       "3"
      ]
     },
     "metadata": {},
     "output_type": "display_data"
    },
    {
     "data": {
      "image/png": "iVBORw0KGgoAAAANSUhEUgAAAA8AAAAYCAYAAAAlBadpAAAABHNCSVQICAgIfAhkiAAAAVVJREFUOI3F1LFLlWEUBvDfFQeDNPA25GiQg1zQoL8hcJKCQIqgqblF0e1OIukkNDS01RJlQURSU/9Borg4uDYohIpu5vCdD859uXnvZA+88JznnIfzft/5vtNot9t64C5mg7/Hbp0Y7GEcxgeMo4FHuIczGOhhfoXbeIFFTGKtn85zeIo21kNrYh6b+NLo45n/iV7XvlpzE8vYxkmc7dBGc2H5wlr4jrEuegvPcB87Zedr2EjGP1jFy+Ai9xFDZecnuJPix/gW/Ce+Bp+I2je584PEj1SzrLGJ4xQ/LK89nfg+/qb4PLQaU6W5WXQukbWbpTmj0Y+WzYeJj3QxZ+2gNP9KfLzIDYRWY6s0f058GDMpnsH1FH+ic85vVb9bPet3eB38earbi1yH+Uw1vx+4hRtY0InfUdN1k+yovuEV1a46jbMbWitqlJ1rHGIpzqX4f8vgAoXrP68m265bAAAAAElFTkSuQmCC\n",
      "text/latex": [
       "$\\displaystyle \\mathbf{\\hat{0}}$"
      ],
      "text/plain": [
       "0"
      ]
     },
     "metadata": {},
     "output_type": "display_data"
    },
    {
     "data": {
      "image/png": "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\n",
      "text/latex": [
       "$\\displaystyle \\frac{\\mathbf{{x}_{C}}^{2}}{2} + \\frac{\\mathbf{{y}_{C}}^{2}}{2} + \\frac{\\mathbf{{z}_{C}}^{2}}{2}$"
      ],
      "text/plain": [
       "   2      2      2\n",
       "x_C    y_C    z_C \n",
       "──── + ──── + ────\n",
       " 2      2      2  "
      ]
     },
     "metadata": {},
     "output_type": "display_data"
    }
   ],
   "source": [
    "f1 = C.x**2*C.k\n",
    "f2 = C.x*C.i + C.y*C.j + C.z*C.k\n",
    "\n",
    "display(f1)\n",
    "display(divergence(f1))\n",
    "display(curl(f1))\n",
    "display(divergence(f2))\n",
    "display(curl(f2))\n",
    "display(scalar_potential(f2, C))\n",
    "\n",
    "\n"
   ]
  },
  {
   "cell_type": "markdown",
   "metadata": {},
   "source": [
    "#### Divergence Theorem"
   ]
  },
  {
   "cell_type": "code",
   "execution_count": 75,
   "metadata": {},
   "outputs": [
    {
     "data": {
      "image/png": "iVBORw0KGgoAAAANSUhEUgAAAM0AAAAVCAYAAADl0WorAAAABHNCSVQICAgIfAhkiAAABQNJREFUeJzt23moFVUcwPHP0wqlaEGjILKSyCwjaaGFcknboMUloyDrUVEUFUZFGAVWaP7XRistCkXra6Gykmi1ncgiKlrIVsusMColU/vjN1evz3vn3Zk3c+9T7xeGc2fmzDm/+b3f75zz+815HTNmzNCmTZvG6ddqAdq0lLlYgq1bLUgf5ECswbndb2zqTtMpXjztWJXy/E7J/VuT80FCiU/iKyzHMizAOTYufR6MqZiNv0to/xShtzfwp9D1AyX0UxYf4Clcj22qb2zREnGax0JcW+fekTgKz6c8f7JwhCeS8ym4A4vxCr4TjjUJ9+D4pM6a3greBGYKY76jpPavxv74Cz9g75L6KZMb8C4uwazKxY3BaTpxP8bi1YzPLkyOWrydlHenPD8Rv+H15PwLnITnsLqq3lV4D5OFA3VllLNT/nfMw14YLxx9eUl9XCqc5SuMFoNMb+nUXD29h89xvpiRV1PecmKyGMGX4l98KQyrf0n9ZWU/HIofhQPUYlsxEz1j3RLu5eR8dbe6P+PO5PeYIgXNSKN6PxsdeKREWV5J+u+Ls24W+3wYQ3B05ULRTtMfD+Fx7InHcLswspm4r+D+8nJeUt6rfkxzArYS8UsjrEzK/3ohV16y6n28eO93mihjXyCPfb6ZlKU5zc04TUxlw3EBpmEE3sKZ2KfgPrMyEGcIo7knpd5EESDPb6DNLcS7wQu9ki4fWfS+NUbiM+UkAPoyeezz/aQcVblQpNMcggvxNKZbf8RdKdKblXqt5FRsL4z7+zp1BuA4MYWvaKDN2ULx8/BiATJmIavedxEj7uJmCdhHyGufy4QNDKlc6J4IWITdMgjyoBi14WKxTv4HM2rUHZGUaY6a1n+tQHKuCA6zUFma3ZVS52iRZmxkaXYJLhMB49QG6i9S7Dtm1fugpPwjp4y1qLaDokiToRl6quZ3kSXFhk7ztcZG1go/Vf0+JilP7+GZb1Pu3SRmgWpGitTvXKHIauplxuqxLw4XWZ15KfUmiQCxXpKgwkViyv8U44Rye6Lod8yq90q2bEBK3d7YQVG0Wk/VDFSVZezuNON6aLAeA7CjSM2OztkGoajudApFzdH7NGMjCYD+OFFkypaltDUNN+ITobclDcpQ5Dvm0XtFzkEpdfLaQZG0Wk8V+gnn/ab6QhF0JOXggtorgwFi+bRKOE09RgmDSluaXSkcZqH4ZtCowxRNHr0vxq8YVrw4fZbe2Oew5Pm1M1lRTrMcH4vMw6Q6dY7Q2u80U7CDCO7rJQCIrNlqETDW4hoR+H8gRuSlBcqYlTx6XyNG3MEi7bo50Bv7PDQp18ZRRe4IuELEAF14SQjZT2RrDsSWqjIQLaCyNEvbAdCBCWK3wC817p+F68Rs9YZIAnRnkVg+NIs8eu8SH/iOFV/sy2BCcsDOSXmYdbpZistL6rsWee3zGPH3XjuIFuk080WQfaXw2jEiJlicCPlogX1lZXgiU08JgIOwq9rradgjKfuLmKYWr2mu0+TRe5dYUp6J20qSa6QYZKoZmhxEwN1Mp8mjp+2E4z+ranXS0f5/mvWYJXL4Q1UFfpso08X7HoAPWyxLX+Vi3CI29y6oXNyYtrI3g4n4yKbvMEQi4zux3GyzIQPFwNKlymHYOHY5N5PhrRagiawQ2cSxYmvN5ralpid2F/HvnO432k6zefO6df/20GZ9PlN750B7edamTVb+B/xAUPweSllcAAAAAElFTkSuQmCC\n",
      "text/latex": [
       "$\\displaystyle - e + \\frac{7}{2} + e \\left(-1 + e\\right)$"
      ],
      "text/plain": [
       "-ℯ + 7/2 + ℯ⋅(-1 + ℯ)"
      ]
     },
     "execution_count": 75,
     "metadata": {},
     "output_type": "execute_result"
    }
   ],
   "source": [
    "from sympy.vector import ParametricRegion, vector_integrate\n",
    "from sympy.abc import x,y,z,theta, phi\n",
    "from sympy.vector import divergence\n",
    "\n",
    "cube = ParametricRegion((x, y, z), (x, 0, 1), (y, 0, 1), (z, 0, 1))\n",
    "field = 2*C.x*C.y*C.i + 3*C.x*C.y*C.j + C.z*exp(C.x + C.y)*C.k\n",
    "vector_integrate(divergence(field), cube)"
   ]
  },
  {
   "cell_type": "markdown",
   "metadata": {},
   "source": [
    "#### Stoke's theorem\n"
   ]
  },
  {
   "cell_type": "code",
   "execution_count": 34,
   "metadata": {},
   "outputs": [
    {
     "data": {
      "text/latex": [
       "$\\displaystyle - \\frac{\\pi}{4}$"
      ],
      "text/plain": [
       "-pi/4"
      ]
     },
     "execution_count": 34,
     "metadata": {},
     "output_type": "execute_result"
    }
   ],
   "source": [
    "curve = ParametricRegion((cos(theta), sin(theta)), (theta, 0, pi/2))\n",
    "surface = ParametricRegion((r*cos(theta), r*sin(theta)), (r, 0, 1), (theta, 0, pi/2))\n",
    "F = C.y*C.i + C.z*C.k + C.x*C.k\n",
    "vector_integrate(F, curve)"
   ]
  },
  {
\
   "cell_type": "code",
   "execution_count": null,
   "metadata": {},
   "outputs": [],
   "source": []
  },
  {
   "source": [
    "check divergence theorem, stokes theorem, flux etc https://docs.sympy.org/latest/modules/vector/vector_integration.html"
   ]
  },
  {
   "cell_type": "markdown",
   "metadata": {},
   "source": [
    "### Magnetostatics"
   ]
  },
  {
   "cell_type": "markdown",
   "metadata": {},
   "source": [
    "#### Magnetic Forces \n",
    "Force due to magnetic field"
   ]
  },
  {
   "cell_type": "code",
   "execution_count": 89,
   "metadata": {},
   "outputs": [
    {
     "data": {
      "image/png": "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\n",
      "text/latex": [
       "$\\displaystyle (380)\\mathbf{\\hat{j}_{C}} + (-760)\\mathbf{\\hat{k}_{C}}$"
      ],
      "text/plain": [
       "(380) j_C + (-760) k_C"
      ]
     },
     "execution_count": 89,
     "metadata": {},
     "output_type": "execute_result"
    }
     {
   "cell_type": "markdown",
   "metadata": {},
   "source": [
    "work done by charges"

   ],
   "source": [
    "q = 2\n",
    "v = C.x*C.i + C.y*C.j + C.z*C.k\n",
    "B = 2*C.x**2*C.i + C.y*C.j + C.z*C.k\n",
    "E = 0*C.i + 0*C.j +0*C.k # make E non Zero if solving for Lorentz Force\n",
    "F = q*(E+v.cross(B))\n",
    "F.subs({C.x:10,C.y:2, C.z:1})\n"
   ]
  },
  {
   "cell_type": "markdown",

   "metadata": {}
  },
  {
   "cell_type": "code",
   "execution_count": 73,
   "metadata": {},
   "outputs": [
    {
     "output_type": "stream",
     "name": "stdout",
     "text": [
      "W1 0\nW2 -k*q**2/a\nW3 k*q**2*(-2 + sqrt(2))/(2*a)\nW4 k*q**2*(-4 + sqrt(2))/(2*a)\nW k*q**2*(-4 + sqrt(2))/a\n"
     ]
    }
   ],
   "source": [
    "from sympy.geometry import Point\n",
    "q= Quantity(\"q\") #constant\n",
    "k= Quantity(\"k\") #constant\n",
    "# k = 1/(4*pi*e0)\n",
    "q1 = [Point(0,0),q]\n",
    "q2 = [Point(0,a),-q]\n",
    "q3 = [Point(a,0),-q]\n",
    "q4 = [Point(a,a),q]\n",
    "#starting with 2 cause first charge doesnt take work / is already there\n",
    "W1 = 0\n",
    "W2 = k*q2[1]*(q1[1]/(q2[0].distance(q1[0])))\n",
    "W3 = k*q3[1]*(q1[1]/(q1[0].distance(q3[0]))+q2[1]/(q2[0].distance(q3[0])))\n",
    "W4 = k*q4[1]*(q1[1]/(q1[0].distance(q4[0]))+q2[1]/(q2[0].distance(q4[0]))+q3[1]/(q3[0].distance(q4[0])))\n",
    "\n",
    "\n",
    "e0 = scipy.constants.epsilon_0\n",
    "pi = scipy.constants.pi\n",
    "print(\"W1\",W1)\n",
    "print(\"W2\",W2.simplify())\n",
    "print(\"W3\",W3.simplify())\n",
    "print(\"W4\",W4.simplify())\n",
    "print(\"W\",(W1 + W2 + W3 + W4).simplify())\n"
   ]
  },
  {
   "source": [
    "two point charges are held together my massless string of length a, when they fly apart how fast is each charge going PROBLEM 2.32"
   ],
   "cell_type": "markdown",
   "metadata": {}
  },
  {
   "source": [],
   "cell_type": "code",
   "metadata": {},
   "execution_count": null,
   "outputs": []
  }
 ],
 "metadata": {
  "kernelspec": {
   "display_name": "Python 3",
   "language": "python",
   "name": "python3"
  },
  "language_info": {
   "codemirror_mode": {
    "name": "ipython",
    "version": 3
   },
   "file_extension": ".py",
   "mimetype": "text/x-python",
   "name": "python",
   "nbconvert_exporter": "python",
   "pygments_lexer": "ipython3",
   "version": "3.7.7"
  },
  "metadata": {
   "interpreter": {
    "hash": "916dbcbb3f70747c44a77c7bcd40155683ae19c65e1c03b4aa3499c5328201f1"
   }
  }
 },
 "nbformat": 4,
 "nbformat_minor": 2
}
