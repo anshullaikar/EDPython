{
 "metadata": {
  "language_info": {
   "codemirror_mode": {
    "name": "ipython",
    "version": 3
   },
   "file_extension": ".py",
   "mimetype": "text/x-python",
   "name": "python",
   "nbconvert_exporter": "python",
   "pygments_lexer": "ipython3",
   "version": "3.8.6"
  },
  "orig_nbformat": 2,
  "kernelspec": {
   "name": "python3",
   "language": "python",
   "display_name": "Python 3"
  },
  "metadata": {
   "interpreter": {
    "hash": "31f2aee4e71d21fbe5cf8b01ff0e069b9275f58929596ceb00d14d90e3e16cd6"
   }
  }
 },
 "nbformat": 4,
 "nbformat_minor": 2,
 "cells": [
  {
   "cell_type": "code",
   "execution_count": 9,
   "metadata": {
    "pycharm": {
     "is_executing": false
    }
   },
   "outputs": [],
   "source": [
    "from sympy import *\n",
    "from sympy.physics.units.quantities import Quantity\n",
    "r = Symbol(\"r\")\n",
    "x = Symbol(\"x\")\n",
    "a = Quantity(\"a\") #constant"
   ]
  },
  {
   "source": [
    "DIRAC DELTA FUNCTION IN 1D"
   ],
   "cell_type": "markdown",
   "metadata": {}
  },
  {
   "cell_type": "code",
   "execution_count": 10,
   "metadata": {
    "pycharm": {
     "is_executing": false
    }
   },
   "outputs": [
    {
     "name": "stdout",
     "text": [
      "3*a**2\n"
     ],
     "output_type": "stream"
    }
   ],
   "source": [
    "print(integrate((r**2 + r*a + a**2)*DiracDelta(r- a), (r, -oo, oo)))   \n"
   ]
  },
  {
   "source": [
    "DIRAC DELTA FUNCTION IN 3D\n"
   ],
   "cell_type": "markdown",
   "metadata": {}
  },
  {
   "source": [
    "print(integrate((r**2 + r*a + a**2)*DiracDelta(r- a)**3, (r, -oo, oo)))    \n"
   ],
   "cell_type": "code",
   "metadata": {
    "pycharm": {
     "is_executing": false
    }
   },
   "execution_count": 11,
   "outputs": [
    {
     "name": "stdout",
     "text": [
      "3*a**2*DiracDelta(0)**2\n"
     ],
     "output_type": "stream"
    }
   ]
  },
  {
   "source": [
    "DIVERGENCE CALCULATOR"
   ],
   "cell_type": "markdown",
   "metadata": {}
  },
  {
   "cell_type": "code",
   "execution_count": 12,
   "metadata": {
    "pycharm": {
     "is_executing": false
    }
   },
   "outputs": [
    {
     "name": "stdout",
     "text": [
      "3*a**2*DiracDelta(0)**2\n"
     ],
     "output_type": "stream"
    }
   ],
   "source": [
    "print(integrate((r**2 + r*a + a**2)*DiracDelta(r- a)**3, (r, -oo, oo)))    \n"
   ]
  },
  {
   "cell_type": "code",
   "execution_count": 12,
   "metadata": {
    "pycharm": {
     "is_executing": false
    }
   },
   "outputs": [],
   "source": []
  }
 ]
}