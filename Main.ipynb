{
 "metadata": {
  "language_info": {
   "codemirror_mode": {
    "name": "ipython",
    "version": 3
   },
   "file_extension": ".py",
   "mimetype": "text/x-python",
   "name": "python",
   "nbconvert_exporter": "python",
   "pygments_lexer": "ipython3",
   "version": "3.7.7"
  },
  "orig_nbformat": 2,
  "kernelspec": {
   "name": "python377jvsc74a57bd0e534e48711db4d1e1c48977d0d14ff85b1f16d41bcc4fdfd88268a329b3c9d66",
   "display_name": "Python 3.7.7 64-bit"
  },
  "metadata": {
   "interpreter": {
    "hash": "31f2aee4e71d21fbe5cf8b01ff0e069b9275f58929596ceb00d14d90e3e16cd6"
   }
  }
 },
 "nbformat": 4,
 "nbformat_minor": 2,
 "cells": [
  {
   "cell_type": "code",
   "execution_count": 1,
   "metadata": {
    "pycharm": {
     "is_executing": false
    }
   },
   "outputs": [],
   "source": [
    "from sympy import *\n",
    "from sympy.physics.units.quantities import Quantity\n",
    "r = Symbol(\"r\")\n",
    "x = Symbol(\"x\")\n",
    "a = Quantity(\"a\") #constant"
   ]
  },
  {
   "source": [
    "DIRAC DELTA FUNCTION IN 1D"
   ],
   "cell_type": "markdown",
   "metadata": {}
  },
  {
   "cell_type": "code",
   "execution_count": 2,
   "metadata": {
    "pycharm": {
     "is_executing": false
    }
   },
   "outputs": [
    {
     "output_type": "stream",
     "name": "stdout",
     "text": [
      "3*a**2\n"
     ]
    }
   ],
   "source": [
    "print(integrate((r**2 + r*a + a**2)*DiracDelta(r- a), (r, -oo, oo)))   \n"
   ]
  },
  {
   "source": [
    "DIRAC DELTA FUNCTION IN 3D\n"
   ],
   "cell_type": "markdown",
   "metadata": {}
  },
  {
   "source": [
    "print(integrate((r**2 + r*a + a**2)*DiracDelta(r- a)**3, (r, -oo, oo)))    \n"
   ],
   "cell_type": "code",
   "metadata": {
    "pycharm": {
     "is_executing": false
    }
   },
   "execution_count": 3,
   "outputs": [
    {
     "output_type": "stream",
     "name": "stdout",
     "text": [
      "3*a**2*DiracDelta(0)**2\n"
     ]
    }
   ]
  },
  {
   "source": [
    "DIVERGENCE CALCULATOR"
   ],
   "cell_type": "markdown",
   "metadata": {}
  },
  {
   "cell_type": "code",
   "execution_count": 4,
   "metadata": {
    "pycharm": {
     "is_executing": false
    }
   },
   "outputs": [
    {
     "output_type": "stream",
     "name": "stdout",
     "text": [
      "3*a**2*DiracDelta(0)**2\n"
     ]
    }
   ],
   "source": [
    "print(integrate((r**2 + r*a + a**2)*DiracDelta(r- a)**3, (r, -oo, oo)))    \n"
   ]
  },
  {
   "source": [
    "Anshul is gay"
   ],
   "cell_type": "markdown",
   "metadata": {
    "pycharm": {
     "is_executing": false
    }
   }
  }
 ]
}